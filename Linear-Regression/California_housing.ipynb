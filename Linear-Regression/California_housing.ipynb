{
 "cells": [
  {
   "cell_type": "code",
   "execution_count": 171,
   "id": "7f051f29",
   "metadata": {},
   "outputs": [],
   "source": [
    "import pandas as pd\n",
    "from matplotlib import pyplot as plt\n",
    "import seaborn as sns\n",
    "import numpy as np\n",
    "from sklearn.datasets import fetch_california_housing"
   ]
  },
  {
   "cell_type": "markdown",
   "id": "470bd9fd",
   "metadata": {},
   "source": [
    "# Fetching Dataset and performing scaling"
   ]
  },
  {
   "cell_type": "code",
   "execution_count": 198,
   "id": "2e80609c",
   "metadata": {},
   "outputs": [],
   "source": [
    "X,y=fetch_california_housing(as_frame=True,return_X_y=True)\n",
    "\n",
    "from sklearn.model_selection import train_test_split\n",
    "from sklearn.preprocessing import StandardScaler\n",
    "\n",
    "X_train,X_test,y_train,y_test=train_test_split(X,y,test_size=0.2,random_state=42)\n",
    "\n",
    "scaler=StandardScaler()\n",
    "X_train=pd.DataFrame(scaler.fit_transform(X_train),columns=X.columns)\n",
    "X_test=pd.DataFrame(scaler.transform(X_test),columns=X.columns)\n",
    "\n",
    "#X_combined=pd.DataFrame(pd.concat([X_train,X_test])).reset_index(drop=True)\n",
    "#y_combined=pd.DataFrame(pd.concat([y_train,y_test])).reset_index(drop=True)\n",
    "\n",
    "#df=pd.concat([X_combined,y_combined],axis=1)"
   ]
  },
  {
   "cell_type": "markdown",
   "id": "462ad5e3",
   "metadata": {},
   "source": [
    "# Checking for Multicoliinearity"
   ]
  },
  {
   "cell_type": "code",
   "execution_count": 199,
   "id": "0f8dd284",
   "metadata": {},
   "outputs": [
    {
     "data": {
      "text/plain": [
       "{'Longitude'}"
      ]
     },
     "execution_count": 199,
     "metadata": {},
     "output_type": "execute_result"
    }
   ],
   "source": [
    "def collinearity_check(df,threshold=0.85):\n",
    "    df=df.select_dtypes(include=['number'])\n",
    "    collinear_matrix=abs(df.corr())\n",
    "    removed_cols=set()\n",
    "    for i in range(len(collinear_matrix.columns)):\n",
    "        for j in range(i):\n",
    "            if collinear_matrix.iloc[i,j]>threshold:\n",
    "                removed_cols.add(collinear_matrix.columns[i])\n",
    "    return(removed_cols)\n",
    "\n",
    "cols=collinearity_check(X_train)\n",
    "X_train=X_train.drop(columns=cols,axis=1)\n",
    "X_test=X_test.drop(columns=cols,axis=1)\n",
    "\n",
    "cols\n",
    "#fig=plt.figure(figsize=(24,20))\n",
    "\n",
    "#cols=X.columns\n",
    "#for i in range(len(cols)):\n",
    "#    plt.subplot(3,3,i+1)\n",
    "#    plt.xlabel(cols[i])\n",
    "#    plt.ylabel('Price')\n",
    "#    plt.scatter(X[X.columns[i]],y)"
   ]
  },
  {
   "cell_type": "markdown",
   "id": "f2f8e800",
   "metadata": {},
   "source": [
    "# Linear Model"
   ]
  },
  {
   "cell_type": "code",
   "execution_count": 210,
   "id": "22697ffb",
   "metadata": {},
   "outputs": [
    {
     "data": {
      "text/plain": [
       "0.7981366608800815"
      ]
     },
     "execution_count": 210,
     "metadata": {},
     "output_type": "execute_result"
    },
    {
     "data": {
      "image/png": "[encoded data removed]",
      "text/plain": [
       "<Figure size 640x480 with 1 Axes>"
      ]
     },
     "metadata": {},
     "output_type": "display_data"
    }
   ],
   "source": [
    "from sklearn.model_selection import train_test_split\n",
    "from sklearn.linear_model import LinearRegression\n",
    "from sklearn.metrics import mean_squared_error\n",
    "\n",
    "model=LinearRegression()\n",
    "model.fit(X_train,y_train)\n",
    "\n",
    "y_pred=model.predict(X_test)\n",
    "residual=y_test-y_pred\n",
    "\n",
    "plt.hist(residual)\n",
    "rmse=np.sqrt(mean_squared_error(y_test,y_pred))\n",
    "rmse"
   ]
  },
  {
   "cell_type": "code",
   "execution_count": null,
   "id": "8b8f466d",
   "metadata": {},
   "outputs": [],
   "source": []
  }
 ],
 "metadata": {
  "kernelspec": {
   "display_name": "base",
   "language": "python",
   "name": "python3"
  },
  "language_info": {
   "codemirror_mode": {
    "name": "ipython",
    "version": 3
   },
   "file_extension": ".py",
   "mimetype": "text/x-python",
   "name": "python",
   "nbconvert_exporter": "python",
   "pygments_lexer": "ipython3",
   "version": "3.12.7"
  }
 },
 "nbformat": 4,
 "nbformat_minor": 5
}
