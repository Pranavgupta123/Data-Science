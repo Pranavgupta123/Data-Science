{
 "cells": [
  {
   "cell_type": "code",
   "execution_count": 2,
   "id": "efc8cf26",
   "metadata": {},
   "outputs": [],
   "source": [
    "import pandas as pd\n",
    "import tensorflow\n",
    "import keras\n",
    "import re\n",
    "\n",
    "from sklearn.model_selection import train_test_split\n",
    "from sklearn.preprocessing import LabelEncoder"
   ]
  },
  {
   "cell_type": "code",
   "execution_count": 3,
   "id": "cdb4eb6c",
   "metadata": {},
   "outputs": [],
   "source": [
    "data=pd.read_csv('/Users/pranav/Desktop/Coding/Data-Science/DATA/IMDB Dataset.csv')\n",
    "encoder=LabelEncoder()\n",
    "\n",
    "data['sentiment']=encoder.fit_transform(data['sentiment'])\n",
    "\n",
    "def fun(x):\n",
    "    x=str(x).lower()\n",
    "    x=re.sub(r'<[^>]+>','',x)\n",
    "    x=re.sub(r'[^\\w\\s]+','',x)\n",
    "    return x\n",
    "\n",
    "data['review']=data['review'].apply(fun)\n",
    "\n",
    "from tensorflow.keras.preprocessing.text import Tokenizer\n",
    "from tensorflow.keras.preprocessing.sequence import pad_sequences\n",
    "\n",
    "tokenizer=Tokenizer(num_words=1000,oov_token=\"<OOV>\")\n",
    "tokenizer.fit_on_texts(data['review'])\n",
    "sequences=tokenizer.texts_to_sequences(data['review'])\n",
    "\n",
    "pad_sequence=pad_sequences(sequences,maxlen=200,padding='post',truncating='post')"
   ]
  },
  {
   "cell_type": "code",
   "execution_count": 4,
   "id": "20eb9b5d",
   "metadata": {},
   "outputs": [],
   "source": [
    "X_train,X_test,y_train,y_test=train_test_split(pad_sequence,data['sentiment'])"
   ]
  },
  {
   "cell_type": "code",
   "execution_count": 7,
   "id": "48e87001",
   "metadata": {},
   "outputs": [],
   "source": [
    "from tensorflow.keras.models import Sequential\n",
    "from tensorflow.keras.layers import Dense,Dropout,SimpleRNN,LSTM,GRU,Embedding,Bidirectional"
   ]
  },
  {
   "cell_type": "code",
   "execution_count": 24,
   "id": "b0443517",
   "metadata": {},
   "outputs": [
    {
     "name": "stdout",
     "output_type": "stream",
     "text": [
      "Epoch 1/5\n",
      "\u001b[1m1172/1172\u001b[0m \u001b[32m━━━━━━━━━━━━━━━━━━━━\u001b[0m\u001b[37m\u001b[0m \u001b[1m24s\u001b[0m 20ms/step - accuracy: 0.5133 - loss: 0.6918 - val_accuracy: 0.5316 - val_loss: 0.6861\n",
      "Epoch 2/5\n",
      "\u001b[1m1172/1172\u001b[0m \u001b[32m━━━━━━━━━━━━━━━━━━━━\u001b[0m\u001b[37m\u001b[0m \u001b[1m24s\u001b[0m 21ms/step - accuracy: 0.5419 - loss: 0.6823 - val_accuracy: 0.4990 - val_loss: 0.6955\n",
      "Epoch 3/5\n",
      "\u001b[1m1172/1172\u001b[0m \u001b[32m━━━━━━━━━━━━━━━━━━━━\u001b[0m\u001b[37m\u001b[0m \u001b[1m24s\u001b[0m 20ms/step - accuracy: 0.5242 - loss: 0.6883 - val_accuracy: 0.5367 - val_loss: 0.6898\n",
      "Epoch 4/5\n",
      "\u001b[1m1172/1172\u001b[0m \u001b[32m━━━━━━━━━━━━━━━━━━━━\u001b[0m\u001b[37m\u001b[0m \u001b[1m24s\u001b[0m 20ms/step - accuracy: 0.5645 - loss: 0.6746 - val_accuracy: 0.5462 - val_loss: 0.6792\n",
      "Epoch 5/5\n",
      "\u001b[1m1172/1172\u001b[0m \u001b[32m━━━━━━━━━━━━━━━━━━━━\u001b[0m\u001b[37m\u001b[0m \u001b[1m24s\u001b[0m 20ms/step - accuracy: 0.6289 - loss: 0.6368 - val_accuracy: 0.7226 - val_loss: 0.5503\n"
     ]
    },
    {
     "data": {
      "text/plain": [
       "<keras.src.callbacks.history.History at 0x34f0174a0>"
      ]
     },
     "execution_count": 24,
     "metadata": {},
     "output_type": "execute_result"
    }
   ],
   "source": [
    "model=Sequential([\n",
    "    Embedding(input_dim=1000,output_dim=8,input_length=200),\n",
    "    LSTM(32,return_sequences=True),\n",
    "    Dense(1,activation='sigmoid')\n",
    "])\n",
    "\n",
    "model.compile(optimizer=\"adam\",loss='binary_crossentropy',metrics=['accuracy'])\n",
    "model.fit(\n",
    "    X_train,y_train,epochs=5,validation_data=(X_test,y_test),batch_size=32,validation_split=0.42\n",
    ")"
   ]
  },
  {
   "cell_type": "code",
   "execution_count": 25,
   "id": "79227946",
   "metadata": {},
   "outputs": [
    {
     "name": "stdout",
     "output_type": "stream",
     "text": [
      "\u001b[1m391/391\u001b[0m \u001b[32m━━━━━━━━━━━━━━━━━━━━\u001b[0m\u001b[37m\u001b[0m \u001b[1m2s\u001b[0m 4ms/step - accuracy: 0.7215 - loss: 0.5516\n",
      "\u001b[1m391/391\u001b[0m \u001b[32m━━━━━━━━━━━━━━━━━━━━\u001b[0m\u001b[37m\u001b[0m \u001b[1m2s\u001b[0m 4ms/step\n"
     ]
    },
    {
     "data": {
      "text/plain": [
       "array([[3193,  425],\n",
       "       [3042, 5840]])"
      ]
     },
     "execution_count": 25,
     "metadata": {},
     "output_type": "execute_result"
    }
   ],
   "source": [
    "model.evaluate(X_test,y_test)\n",
    "y_pred=(model.predict(X_test)>0.5)\n",
    "\n",
    "from sklearn.metrics import confusion_matrix\n",
    "confusion_matrix(y_pred,y_test)"
   ]
  },
  {
   "cell_type": "code",
   "execution_count": null,
   "id": "33aae2cd",
   "metadata": {},
   "outputs": [],
   "source": []
  }
 ],
 "metadata": {
  "kernelspec": {
   "display_name": "base",
   "language": "python",
   "name": "python3"
  },
  "language_info": {
   "codemirror_mode": {
    "name": "ipython",
    "version": 3
   },
   "file_extension": ".py",
   "mimetype": "text/x-python",
   "name": "python",
   "nbconvert_exporter": "python",
   "pygments_lexer": "ipython3",
   "version": "3.12.7"
  }
 },
 "nbformat": 4,
 "nbformat_minor": 5
}
